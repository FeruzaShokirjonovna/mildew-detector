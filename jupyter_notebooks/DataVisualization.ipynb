{
 "cells": [
  {
   "cell_type": "markdown",
   "metadata": {},
   "source": [
    "# **DATA VISUALIZATION**"
   ]
  },
  {
   "cell_type": "markdown",
   "metadata": {},
   "source": [
    "## Objectives"
   ]
  },
  {
   "cell_type": "markdown",
   "metadata": {},
   "source": [
    "- Answer business requirement 1:\n",
    "       The client is interested in conducting a study to visually differentiate a cherry leaf that is healthy and that contains powdery mildew.\n",
    "- This notebook also aims to validate Hypothesis 1:\n",
    "We hypothesize that infected leaves have clear white marks with which they can be distinguished from healthy leaves\n"
   ]
  },
  {
   "cell_type": "markdown",
   "metadata": {},
   "source": [
    "## Inputs"
   ]
  },
  {
   "cell_type": "markdown",
   "metadata": {},
   "source": [
    "* inputs/cherry_dataset/cherry-leaves/train\n",
    "* inputs/cherry_dataset/cherry-leaves/test\n",
    "* inputs/cherry_dataset/cherry-leaves/validation"
   ]
  },
  {
   "cell_type": "markdown",
   "metadata": {},
   "source": [
    "## Outputs\n",
    "\n",
    "* Image shape embeddings pickle file, in this case we already know that it will be 50 x 50.\n",
    "* Mean and variability of the leaves images per both labels, and plot them.\n",
    "* Plot to distinguish contrast between healthy and powdery mildew infected leaves images.\n",
    "* Generate code that answers business requirement 1 and can be used to build image montage on Streamlit dashboard."
   ]
  },
  {
   "cell_type": "markdown",
   "metadata": {},
   "source": [
    "## Additional Comments\n",
    "\n",
    "* After exploring the dataset, we notice that the images are 256 pixels × 256 pixels, that should be the image shape of the files, but the trained model will be very large, that is why we consider using an image shape of 50 x 50."
   ]
  },
  {
   "cell_type": "markdown",
   "metadata": {},
   "source": [
    "---"
   ]
  },
  {
   "cell_type": "markdown",
   "metadata": {},
   "source": [
    "## **Set Data Directory**"
   ]
  },
  {
   "cell_type": "markdown",
   "metadata": {},
   "source": [
    "### Import Libraries"
   ]
  },
  {
   "cell_type": "code",
   "execution_count": null,
   "metadata": {},
   "outputs": [],
   "source": [
    "import os\n",
    "import pandas as pd\n",
    "import numpy as np\n",
    "import matplotlib.pyplot as plt\n",
    "import seaborn as sns\n",
    "import joblib\n",
    "sns.set_style(\"whitegrid\")\n",
    "from matplotlib.image import imread"
   ]
  }
 ],
 "metadata": {
  "kernelspec": {
   "display_name": "Python 3",
   "language": "python",
   "name": "python3"
  },
  "language_info": {
   "name": "python",
   "version": "3.8.18"
  }
 },
 "nbformat": 4,
 "nbformat_minor": 2
}
